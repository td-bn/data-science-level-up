{
  "nbformat": 4,
  "nbformat_minor": 0,
  "metadata": {
    "colab": {
      "name": "numpy_arrays.ipynb",
      "provenance": [],
      "collapsed_sections": [],
      "authorship_tag": "ABX9TyN+Xn1a/+UONpBB05OUMyqo",
      "include_colab_link": true
    },
    "kernelspec": {
      "name": "python3",
      "display_name": "Python 3"
    },
    "language_info": {
      "name": "python"
    }
  },
  "cells": [
    {
      "cell_type": "markdown",
      "metadata": {
        "id": "view-in-github",
        "colab_type": "text"
      },
      "source": [
        "<a href=\"https://colab.research.google.com/github/td-bn/data-science-level-up/blob/main/numpy_arrays.ipynb\" target=\"_parent\"><img src=\"https://colab.research.google.com/assets/colab-badge.svg\" alt=\"Open In Colab\"/></a>"
      ]
    },
    {
      "cell_type": "code",
      "metadata": {
        "id": "VdM7KgzwxlzJ"
      },
      "source": [
        "import numpy as np\n",
        "\n",
        "np.random.seed(42) # Seed to produce reproducable random numbers\n",
        "\n",
        "ar = np.random.randint(10, size=(3,4))"
      ],
      "execution_count": 4,
      "outputs": []
    },
    {
      "cell_type": "code",
      "metadata": {
        "id": "qrmi-hPHyqZ1"
      },
      "source": [
        "# Numpy array attributes\n",
        "print(\"#dim: \", ar.ndim)\n",
        "print(\"size: \", ar.size)\n",
        "print(\"shape: \",ar.shape)\n",
        "print(\"dtype: \", ar.dtype)\n",
        "\n",
        "print()\n",
        "\n",
        "print(\"itemsize: \", ar.itemsize)\n",
        "print(\"nbytes: \", ar.nbytes)"
      ],
      "execution_count": null,
      "outputs": []
    },
    {
      "cell_type": "code",
      "metadata": {
        "id": "7Q_hmVzkzqZO"
      },
      "source": [
        "# Array indexing\n",
        "print(\"array: \\n\",ar, \"\\n\")\n",
        "print(ar[1], \"\\n\")\n",
        "print(ar[1][-2], \"\\n\")\n"
      ],
      "execution_count": null,
      "outputs": []
    },
    {
      "cell_type": "code",
      "metadata": {
        "id": "QLZHExmO0waO"
      },
      "source": [
        "# Modification\n",
        "ar[0][0] = 42\n",
        "print(ar)"
      ],
      "execution_count": null,
      "outputs": []
    },
    {
      "cell_type": "code",
      "metadata": {
        "id": "jRUMIa4h0_6A"
      },
      "source": [
        "# Note on dtypes, entries that are not of type dtype are casted e.g.\n",
        "ar[0][0] = 3.14 # Casted or truncated? to 3\n",
        "print(ar)"
      ],
      "execution_count": null,
      "outputs": []
    },
    {
      "cell_type": "code",
      "metadata": {
        "id": "bk6HDRwK1hNQ"
      },
      "source": [
        "# Accessing subarrays\n",
        "\n",
        "# Numpy slicing syntax is the same as the python slicing syntax i.e to slice an \n",
        "# array x : `x[start:stop:step]`\n",
        "\n",
        "x = np.arange(10)\n",
        "print(x,\"\\n\")\n",
        "\n",
        "# First 5 elements because default values of start is 0\n",
        "print(x[:5], \"\\n\")\n",
        "\n",
        "# Last 5 elements because default value of stop argument is len of array\n",
        "print(x[5:], \"\\n\")\n",
        "\n",
        "# Even numbers\n",
        "print(x[::2], \"\\n\")"
      ],
      "execution_count": null,
      "outputs": []
    },
    {
      "cell_type": "code",
      "metadata": {
        "id": "tLDh4C2h2yh9"
      },
      "source": [
        "# When 'step' value is negative, interesting thins happen\n",
        "print(\"Reversed ar:\", x[::-1], \"\\n\")\n",
        "\n",
        "print(\"Starting at index 5, give me reversed array: \", x[5::-1])"
      ],
      "execution_count": null,
      "outputs": []
    },
    {
      "cell_type": "code",
      "metadata": {
        "id": "gMdtcvCl5Fxb"
      },
      "source": [
        "# Multi dimensional slices\n",
        "# here slices are specified for multi dimensions separated by commas e.g.\n",
        "print(\"Array: \\n\", ar)\n",
        "\n",
        "print(\"2 cols and 3 rows\\n\", ar[:2, :3])\n",
        "\n",
        "print(\"All cols and every other row\\n\", ar[::2, :4])\n",
        "\n",
        "print(\"Reversing is neat\\n\", ar[::-1, ::-1])"
      ],
      "execution_count": null,
      "outputs": []
    },
    {
      "cell_type": "code",
      "metadata": {
        "id": "S48tmfEI6dVg"
      },
      "source": [
        "# Accessing rows and cols is a common routine\n",
        "# This can be done using a combination of indexing and slicing\n",
        "\n",
        "print(\"Array\\n\", ar)\n",
        "\n",
        "print(\"First column\", ar[:, 0])\n",
        "print(\"First row\", ar[0, :])"
      ],
      "execution_count": null,
      "outputs": []
    },
    {
      "cell_type": "code",
      "metadata": {
        "id": "sB3qfVMmKTwI"
      },
      "source": [
        "# !NOTE: Sub arrays are no-copy views\n",
        "# This is unlike python slices that are copies\n",
        "# This means that any change to numpy array slices are reflected in the original\n",
        "# array\n",
        "print(\"Array\\n\", ar, \"\\n\")\n",
        "x = ar[:2, :2] # Createa  2x2 slice\n",
        "print(\"2x2 slice:\\n\", x, \"\\n\")\n",
        "print(\"Changing first elemect of the slice\")\n",
        "x[0][0] = 42\n",
        "\n",
        "print(x, \"\\n\")\n",
        "\n",
        "print(\"Original Array: \\n\", ar, \"\\n\")\n",
        "\n",
        "# Copies can also be created using\n",
        "y = ar[:2, :2].copy()\n",
        "print(\"y (copy of original array):\\n\", y, \"\\n\")\n",
        "y[0][0] = 99\n",
        "print(\"changing first element:\\n\", y, \"\\n\")\n",
        "print(\"Original Array: \\n\", ar)\n"
      ],
      "execution_count": null,
      "outputs": []
    },
    {
      "cell_type": "code",
      "metadata": {
        "id": "h5CME3EeK3v9"
      },
      "source": [
        "# Reshaping arrays\n",
        "mat = np.arange(1,10).reshape((3,3))\n",
        "print(mat, \"\\n\")\n",
        "\n",
        "# A common reshaping patter is to convert a 1D array into a 2D col or row e.g.\n",
        "x = np.arange(3)\n",
        "print(\"x:\", x, \"\\n\")\n",
        "\n",
        "print(\"By reshaping:\", \"\\n\", x.reshape((1,3)), \"\\n\")\n",
        "\n",
        "# This can be done more easily done by making use of the newaxis keyword\n",
        "# newaxis is a convenient alias for None, useful for indexing arrays.\n",
        "print(\"Using newaxis\", \"\\n\", x[np.newaxis, :], \"\\n\")\n",
        "\n",
        "print(\"Column vector reshaping:\", \"\\n\", x.reshape((3,1)))\n",
        "print(\"Column vector newaxis:\", \"\\n\", x[:, np.newaxis])"
      ],
      "execution_count": null,
      "outputs": []
    },
    {
      "cell_type": "code",
      "metadata": {
        "id": "O2-Hqg8mVczg"
      },
      "source": [
        "# Array concatenation\n"
      ],
      "execution_count": null,
      "outputs": []
    }
  ]
}